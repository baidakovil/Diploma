{
 "cells": [
  {
   "cell_type": "code",
   "execution_count": 1,
   "metadata": {},
   "outputs": [],
   "source": [
    "import pysrt\n",
    "import pandas as pd\n",
    "from tqdm.notebook import tqdm\n",
    "import re"
   ]
  },
  {
   "cell_type": "code",
   "execution_count": 2,
   "metadata": {},
   "outputs": [],
   "source": [
    "fil_track = pd.read_csv('fil_track.csv',index_col=0)\n",
    "sub_dir = './track_sub/'\n",
    "fil_sub = pd.DataFrame(columns=['abbr','track','language','sub'])"
   ]
  },
  {
   "cell_type": "code",
   "execution_count": 3,
   "metadata": {},
   "outputs": [],
   "source": [
    "def clear_sub(text):\n",
    "\n",
    "    replaced = text.replace('<i>','').replace('</i>','').replace('\"','').replace('\\n',' ')\n",
    "    resub = re.sub(pattern=r'\\(.*\\)', repl=r'', string=replaced)\n",
    "    \n",
    "    return resub"
   ]
  },
  {
   "cell_type": "code",
   "execution_count": 4,
   "metadata": {},
   "outputs": [
    {
     "data": {
      "text/plain": [
       "' Что они с нами сделают?'"
      ]
     },
     "execution_count": 4,
     "metadata": {},
     "output_type": "execute_result"
    }
   ],
   "source": [
    "text = '<i>(Ваня спрашивает) Что они с нами сделают?</i>'\n",
    "clear_sub(text)"
   ]
  },
  {
   "cell_type": "code",
   "execution_count": 5,
   "metadata": {},
   "outputs": [],
   "source": [
    "for film in set(fil_track.index):\n",
    "\n",
    "    abbr = fil_track.loc[film]['abbr']\n",
    "    language = fil_track.loc[film]['language']\n",
    "    track = fil_track.loc[film]['track']\n",
    "    \n",
    "    sub_path = sub_dir + abbr + '.srt'\n",
    "\n",
    "    subs = pysrt.open(sub_path, encoding='windows-1251')\n",
    "    starts_after={'minutes': 0, 'seconds': 0}\n",
    "    ends_before={'minutes': 1000, 'seconds': 0}\n",
    "\n",
    "\n",
    "    part = subs.slice(\n",
    "            starts_after=starts_after,\n",
    "            ends_before=ends_before)\n",
    "    sub = clear_sub(part.text)\n",
    "\n",
    "    new_row = pd.DataFrame({'abbr':abbr,'track':track,'language':language, 'sub':sub}, index=[film])\n",
    "    fil_sub = pd.concat([fil_sub.loc[:,:],new_row],)\n",
    "\n",
    "    starts_after['minutes'] += 10\n",
    "    ends_before['minutes'] += 10"
   ]
  },
  {
   "cell_type": "code",
   "execution_count": 6,
   "metadata": {},
   "outputs": [],
   "source": [
    "fil_sub.to_csv('fil_sub.csv')"
   ]
  },
  {
   "cell_type": "code",
   "execution_count": 7,
   "metadata": {},
   "outputs": [
    {
     "data": {
      "text/html": [
       "<div>\n",
       "<style scoped>\n",
       "    .dataframe tbody tr th:only-of-type {\n",
       "        vertical-align: middle;\n",
       "    }\n",
       "\n",
       "    .dataframe tbody tr th {\n",
       "        vertical-align: top;\n",
       "    }\n",
       "\n",
       "    .dataframe thead th {\n",
       "        text-align: right;\n",
       "    }\n",
       "</style>\n",
       "<table border=\"1\" class=\"dataframe\">\n",
       "  <thead>\n",
       "    <tr style=\"text-align: right;\">\n",
       "      <th></th>\n",
       "      <th>abbr</th>\n",
       "      <th>track</th>\n",
       "      <th>language</th>\n",
       "      <th>sub</th>\n",
       "    </tr>\n",
       "  </thead>\n",
       "  <tbody>\n",
       "    <tr>\n",
       "      <th>Annie Hall (1977)</th>\n",
       "      <td>AH</td>\n",
       "      <td>./track/AH_01.mp3</td>\n",
       "      <td>en</td>\n",
       "      <td>There's an old joke. Two elderly women are at ...</td>\n",
       "    </tr>\n",
       "    <tr>\n",
       "      <th>Кавказский пленник (1996)</th>\n",
       "      <td>KP</td>\n",
       "      <td>./track/KP_01.mp3</td>\n",
       "      <td>ru</td>\n",
       "      <td>Б, Ы, Н... Закрой правый глаз. Ш, М, Ы, Б, И....</td>\n",
       "    </tr>\n",
       "  </tbody>\n",
       "</table>\n",
       "</div>"
      ],
      "text/plain": [
       "                          abbr              track language   \n",
       "Annie Hall (1977)           AH  ./track/AH_01.mp3       en  \\\n",
       "Кавказский пленник (1996)   KP  ./track/KP_01.mp3       ru   \n",
       "\n",
       "                                                                         sub  \n",
       "Annie Hall (1977)          There's an old joke. Two elderly women are at ...  \n",
       "Кавказский пленник (1996)   Б, Ы, Н... Закрой правый глаз. Ш, М, Ы, Б, И....  "
      ]
     },
     "execution_count": 7,
     "metadata": {},
     "output_type": "execute_result"
    }
   ],
   "source": [
    "fil_sub"
   ]
  },
  {
   "cell_type": "code",
   "execution_count": 8,
   "metadata": {},
   "outputs": [
    {
     "ename": "IndexError",
     "evalue": "single positional indexer is out-of-bounds",
     "output_type": "error",
     "traceback": [
      "\u001b[0;31m---------------------------------------------------------------------------\u001b[0m",
      "\u001b[0;31mIndexError\u001b[0m                                Traceback (most recent call last)",
      "Cell \u001b[0;32mIn[8], line 1\u001b[0m\n\u001b[0;32m----> 1\u001b[0m fil_sub\u001b[39m.\u001b[39;49miloc[\u001b[39m2\u001b[39;49m][\u001b[39m'\u001b[39m\u001b[39msub\u001b[39m\u001b[39m'\u001b[39m]\n",
      "File \u001b[0;32m~/.venvs/whisperenv/lib/python3.8/site-packages/pandas/core/indexing.py:1103\u001b[0m, in \u001b[0;36m_LocationIndexer.__getitem__\u001b[0;34m(self, key)\u001b[0m\n\u001b[1;32m   1100\u001b[0m axis \u001b[39m=\u001b[39m \u001b[39mself\u001b[39m\u001b[39m.\u001b[39maxis \u001b[39mor\u001b[39;00m \u001b[39m0\u001b[39m\n\u001b[1;32m   1102\u001b[0m maybe_callable \u001b[39m=\u001b[39m com\u001b[39m.\u001b[39mapply_if_callable(key, \u001b[39mself\u001b[39m\u001b[39m.\u001b[39mobj)\n\u001b[0;32m-> 1103\u001b[0m \u001b[39mreturn\u001b[39;00m \u001b[39mself\u001b[39;49m\u001b[39m.\u001b[39;49m_getitem_axis(maybe_callable, axis\u001b[39m=\u001b[39;49maxis)\n",
      "File \u001b[0;32m~/.venvs/whisperenv/lib/python3.8/site-packages/pandas/core/indexing.py:1656\u001b[0m, in \u001b[0;36m_iLocIndexer._getitem_axis\u001b[0;34m(self, key, axis)\u001b[0m\n\u001b[1;32m   1653\u001b[0m     \u001b[39mraise\u001b[39;00m \u001b[39mTypeError\u001b[39;00m(\u001b[39m\"\u001b[39m\u001b[39mCannot index by location index with a non-integer key\u001b[39m\u001b[39m\"\u001b[39m)\n\u001b[1;32m   1655\u001b[0m \u001b[39m# validate the location\u001b[39;00m\n\u001b[0;32m-> 1656\u001b[0m \u001b[39mself\u001b[39;49m\u001b[39m.\u001b[39;49m_validate_integer(key, axis)\n\u001b[1;32m   1658\u001b[0m \u001b[39mreturn\u001b[39;00m \u001b[39mself\u001b[39m\u001b[39m.\u001b[39mobj\u001b[39m.\u001b[39m_ixs(key, axis\u001b[39m=\u001b[39maxis)\n",
      "File \u001b[0;32m~/.venvs/whisperenv/lib/python3.8/site-packages/pandas/core/indexing.py:1589\u001b[0m, in \u001b[0;36m_iLocIndexer._validate_integer\u001b[0;34m(self, key, axis)\u001b[0m\n\u001b[1;32m   1587\u001b[0m len_axis \u001b[39m=\u001b[39m \u001b[39mlen\u001b[39m(\u001b[39mself\u001b[39m\u001b[39m.\u001b[39mobj\u001b[39m.\u001b[39m_get_axis(axis))\n\u001b[1;32m   1588\u001b[0m \u001b[39mif\u001b[39;00m key \u001b[39m>\u001b[39m\u001b[39m=\u001b[39m len_axis \u001b[39mor\u001b[39;00m key \u001b[39m<\u001b[39m \u001b[39m-\u001b[39mlen_axis:\n\u001b[0;32m-> 1589\u001b[0m     \u001b[39mraise\u001b[39;00m \u001b[39mIndexError\u001b[39;00m(\u001b[39m\"\u001b[39m\u001b[39msingle positional indexer is out-of-bounds\u001b[39m\u001b[39m\"\u001b[39m)\n",
      "\u001b[0;31mIndexError\u001b[0m: single positional indexer is out-of-bounds"
     ]
    }
   ],
   "source": [
    "fil_sub.iloc[2]['sub']"
   ]
  },
  {
   "cell_type": "code",
   "execution_count": null,
   "metadata": {},
   "outputs": [],
   "source": [
    "sublist = []\n",
    "for sub in fil_sub['sub']:\n",
    "    sublist.append(sub)"
   ]
  },
  {
   "cell_type": "code",
   "execution_count": null,
   "metadata": {},
   "outputs": [],
   "source": []
  }
 ],
 "metadata": {
  "kernelspec": {
   "display_name": "whisperenv",
   "language": "python",
   "name": "python3"
  },
  "language_info": {
   "codemirror_mode": {
    "name": "ipython",
    "version": 3
   },
   "file_extension": ".py",
   "mimetype": "text/x-python",
   "name": "python",
   "nbconvert_exporter": "python",
   "pygments_lexer": "ipython3",
   "version": "3.8.10"
  },
  "orig_nbformat": 4
 },
 "nbformat": 4,
 "nbformat_minor": 2
}
