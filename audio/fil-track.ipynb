{
 "cells": [
  {
   "cell_type": "code",
   "execution_count": 24,
   "metadata": {},
   "outputs": [],
   "source": [
    "import pandas as pd\n",
    "from pydub import AudioSegment\n",
    "import math\n",
    "from tqdm.notebook import tqdm"
   ]
  },
  {
   "cell_type": "code",
   "execution_count": 25,
   "metadata": {},
   "outputs": [],
   "source": [
    "fil_list = pd.read_csv('fil_list.csv',index_col=0)\n",
    "tracks_subs_dir = './track_sub/'\n",
    "tracks_dir = './track'\n",
    "ten_minutes = 1000*60*1000\n",
    "fil_track = pd.DataFrame(columns=['abbr','track','language'])"
   ]
  },
  {
   "cell_type": "code",
   "execution_count": 26,
   "metadata": {},
   "outputs": [
    {
     "data": {
      "application/vnd.jupyter.widget-view+json": {
       "model_id": "c7f6ac60e8054dc48850564f5723ae0c",
       "version_major": 2,
       "version_minor": 0
      },
      "text/plain": [
       "  0%|          | 0/2 [00:00<?, ?it/s]"
      ]
     },
     "metadata": {},
     "output_type": "display_data"
    },
    {
     "name": "stdout",
     "output_type": "stream",
     "text": [
      "Track KP trimmed to 1 parts\n",
      "Track AH trimmed to 1 parts\n"
     ]
    }
   ],
   "source": [
    "for film in tqdm(fil_list.index):\n",
    "\n",
    "    abbr = fil_list.loc[film]['abbr']\n",
    "    language = fil_list.loc[film]['language']\n",
    "    track_full_path = tracks_subs_dir + '/' + abbr + '.mp3'\n",
    "    track = AudioSegment.from_mp3(track_full_path)\n",
    "    beginning = 0\n",
    "    track_len = len(track)\n",
    "    counter = 1\n",
    "\n",
    "    while beginning < track_len:\n",
    "\n",
    "        next_end = beginning + ten_minutes\n",
    "        end = next_end if next_end < track_len else track_len\n",
    "        trim = track[beginning:end]\n",
    "        trim_full_path = f'{tracks_dir}/{abbr}_{str(counter).zfill(2)}.mp3'\n",
    "        file_handle = trim.export(trim_full_path,\n",
    "                            format='mp3',\n",
    "                            bitrate=\"256k\",\n",
    "                            tags={\"album\": abbr, \"artist\": f'No{counter}'})\n",
    "        new_row = pd.DataFrame({'abbr':abbr,'track':trim_full_path,'language':language}, index=[film])\n",
    "        fil_track = pd.concat([fil_track.loc[:,:],new_row],)\n",
    "        beginning += ten_minutes\n",
    "        counter += 1\n",
    "\n",
    "    print(f'Track {abbr} trimmed to {counter-1} parts')"
   ]
  },
  {
   "cell_type": "code",
   "execution_count": 27,
   "metadata": {},
   "outputs": [],
   "source": [
    "fil_track.to_csv('fil_track.csv')"
   ]
  }
 ],
 "metadata": {
  "kernelspec": {
   "display_name": "whisperenv",
   "language": "python",
   "name": "python3"
  },
  "language_info": {
   "codemirror_mode": {
    "name": "ipython",
    "version": 3
   },
   "file_extension": ".py",
   "mimetype": "text/x-python",
   "name": "python",
   "nbconvert_exporter": "python",
   "pygments_lexer": "ipython3",
   "version": "3.8.10"
  },
  "orig_nbformat": 4
 },
 "nbformat": 4,
 "nbformat_minor": 2
}
