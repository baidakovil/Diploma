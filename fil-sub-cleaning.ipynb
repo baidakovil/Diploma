{
 "cells": [
  {
   "attachments": {},
   "cell_type": "markdown",
   "metadata": {},
   "source": [
    "### Подготовка текста субтитров"
   ]
  },
  {
   "cell_type": "code",
   "execution_count": null,
   "metadata": {},
   "outputs": [],
   "source": [
    "import pysrt\n",
    "import pandas as pd\n",
    "import re\n",
    "import seaborn as sns"
   ]
  },
  {
   "cell_type": "code",
   "execution_count": null,
   "metadata": {},
   "outputs": [],
   "source": [
    "# загрузка списка файлов субтитров, удаление ненужных строк, удаление дупликатов, приведение к типам\n",
    "\n",
    "df_loaded = pd.read_csv('fil_sub_download_temp_file.csv', sep=';', names=['imdb_id','moviename', 'data','file'])\n",
    "df_loaded.drop(df_loaded[df_loaded.moviename == 'ERROR'].index, inplace=True)\n",
    "df_loaded = df_loaded.drop_duplicates(subset='imdb_id')\n",
    "df_loaded.insert(4,'subs_text','')\n",
    "df_loaded = df_loaded.astype({'imdb_id': 'int32','moviename': 'string','data': 'object','file': 'object','subs_text': 'string'})\n",
    "df_loaded = df_loaded[['imdb_id','subs_text','file']]\n",
    "df_loaded = df_loaded.reset_index(drop=True)\n",
    "df_loaded"
   ]
  },
  {
   "cell_type": "code",
   "execution_count": null,
   "metadata": {},
   "outputs": [],
   "source": [
    "# удаление \"кривых субтитров\"\n",
    "df_loaded = df_loaded.drop(df_loaded[df_loaded.file.str.contains('1038685.srt')].index)\n",
    "df_loaded"
   ]
  },
  {
   "cell_type": "code",
   "execution_count": null,
   "metadata": {},
   "outputs": [],
   "source": [
    "def clean_text(text):\n",
    "\n",
    "    # очистка текста субтитров от ненужных символов\n",
    "\n",
    "    text = text.lower()\n",
    "    \n",
    "    text = re.sub(r\"i'm\", \"i am\", text)\n",
    "    text = re.sub(r\"he's\", \"he is\", text)\n",
    "    text = re.sub(r\"she's\", \"she is\", text)\n",
    "    text = re.sub(r\"it's\", \"it is\", text)\n",
    "    text = re.sub(r\"that's\", \"that is\", text)\n",
    "    text = re.sub(r\"what's\", \"that is\", text)\n",
    "    text = re.sub(r\"where's\", \"where is\", text)\n",
    "    text = re.sub(r\"there's\", \"there is\", text)\n",
    "    text = re.sub(r\"how's\", \"how is\", text)\n",
    "    text = re.sub(r\"who's\", \"who is\", text)\n",
    "    text = re.sub(r\"\\'ll\", \" will\", text)\n",
    "    text = re.sub(r\"\\'ve\", \" have\", text)\n",
    "    text = re.sub(r\"\\'em\", \" them\", text)\n",
    "    text = re.sub(r\"\\'re\", \" are\", text)\n",
    "    text = re.sub(r\"\\'d\", \" would\", text)\n",
    "    text = re.sub(r\"\\'re\", \" are\", text)\n",
    "    text = re.sub(r\"won't\", \"will not\", text)\n",
    "    text = re.sub(r\"can't\", \"cannot\", text)\n",
    "    text = re.sub(r\"n't\", \" not\", text)\n",
    "    text = re.sub(r\"n'\", \"ng\", text)\n",
    "    text = re.sub(r\"'bout\", \"about\", text)\n",
    "    text = re.sub(r\"'til\", \"until\", text)\n",
    "\n",
    "    text = re.sub(r\"<i>\", \" \", text)\n",
    "    text = re.sub(r\"</i>\", \" \", text)\n",
    "    text = text.replace('\\n',' ')\n",
    "    text = text.replace('   ',' ')\n",
    "    text = text.replace('  ',' ')\n",
    "\n",
    "    text = re.sub(r\"[-()\\\"#/@;§:<>{}`+=~|.!?,]\", \"\", text)\n",
    "\n",
    "    return text"
   ]
  },
  {
   "cell_type": "code",
   "execution_count": null,
   "metadata": {},
   "outputs": [],
   "source": [
    "def load_subs(path):\n",
    "\n",
    "    # пакетная очистка субтитров от ненужных символов\n",
    "\n",
    "    with open(path, 'r') as sf:\n",
    "\n",
    "        lines = sf.readlines()\n",
    "\n",
    "        if re.search(r'{\\d+}', lines[0]) is not None:\n",
    "            del lines[0]\n",
    "            del lines[-1]\n",
    "            lines = ''.join(lines)\n",
    "            subs_text = re.sub(r'{\\d+}','',lines)\n",
    "        elif re.search(r'\\[\\d+\\]', lines[0]) is not None:\n",
    "            del lines[0]\n",
    "            del lines[-1]\n",
    "            lines = ''.join(lines)\n",
    "            subs_text = re.sub(r'\\[\\d+\\]','',lines)\n",
    "        else:\n",
    "            subs = pysrt.open(path)\n",
    "            print(path)\n",
    "            del subs[0]\n",
    "            del subs[-1]\n",
    "            subs_text = subs.text\n",
    "            \n",
    "    subs_text = clean_text(subs_text)\n",
    "            \n",
    "    return subs_text"
   ]
  },
  {
   "cell_type": "code",
   "execution_count": null,
   "metadata": {},
   "outputs": [],
   "source": [
    "# загрузка субтитров из файлов в датафрейм\n",
    "\n",
    "for imdb_id, sub in zip(df_loaded.imdb_id, df_loaded.file):\n",
    "    path, = eval(sub).values()\n",
    "    df_loaded.loc[df_loaded.imdb_id == imdb_id,'subs_text'] = load_subs(path)\n",
    "\n",
    "df_subs = df_loaded[['imdb_id','subs_text']].copy(deep=True)\n",
    "\n",
    "# df_subs[df_subs['subs_text'].str.contains('OpenSubtitles')]"
   ]
  },
  {
   "cell_type": "code",
   "execution_count": null,
   "metadata": {},
   "outputs": [],
   "source": [
    "# подчёт слов в субтитрах, фильтрация по кол-ву слов не более 15000\n",
    "\n",
    "df_subs['subs_len'] = df_subs['subs_text'].apply(lambda x: len(x.split()))\n",
    "df_subs = df_subs[df_subs['subs_len'] <= 15000]\n",
    "df_subs = df_subs.set_index('imdb_id')\n",
    "df_subs.sort_values(by='subs_len')"
   ]
  },
  {
   "cell_type": "code",
   "execution_count": null,
   "metadata": {},
   "outputs": [],
   "source": [
    "sns.histplot(data=df_subs['subs_len'])"
   ]
  },
  {
   "cell_type": "code",
   "execution_count": null,
   "metadata": {},
   "outputs": [],
   "source": [
    "df_kw = pd.read_csv('df_keylist_fifteen.csv', sep=';', index_col='imdb_id')\n",
    "df_kw"
   ]
  },
  {
   "cell_type": "code",
   "execution_count": null,
   "metadata": {},
   "outputs": [],
   "source": [
    "df = df_kw.join(df_subs['subs_text'])"
   ]
  },
  {
   "cell_type": "code",
   "execution_count": null,
   "metadata": {},
   "outputs": [],
   "source": [
    "df"
   ]
  },
  {
   "cell_type": "code",
   "execution_count": null,
   "metadata": {},
   "outputs": [],
   "source": [
    "df.to_csv('df_kw_subs.csv', sep=';')"
   ]
  }
 ],
 "metadata": {
  "kernelspec": {
   "display_name": "whisperenv",
   "language": "python",
   "name": "python3"
  },
  "language_info": {
   "codemirror_mode": {
    "name": "ipython",
    "version": 3
   },
   "file_extension": ".py",
   "mimetype": "text/x-python",
   "name": "python",
   "nbconvert_exporter": "python",
   "pygments_lexer": "ipython3",
   "version": "3.8.10"
  },
  "orig_nbformat": 4
 },
 "nbformat": 4,
 "nbformat_minor": 2
}
