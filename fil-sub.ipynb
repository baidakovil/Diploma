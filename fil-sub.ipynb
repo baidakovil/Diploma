{
 "cells": [
  {
   "cell_type": "code",
   "execution_count": 1,
   "metadata": {},
   "outputs": [],
   "source": [
    "import pysrt\n",
    "import pandas as pd\n",
    "from tqdm.notebook import tqdm"
   ]
  },
  {
   "cell_type": "code",
   "execution_count": 2,
   "metadata": {},
   "outputs": [],
   "source": [
    "fil_track = pd.read_csv('fil_track.csv',index_col=0)\n",
    "tracks_dir = './track/'\n",
    "fil_sub = pd.DataFrame(columns=['abbr','track','language','sub'])\n"
   ]
  },
  {
   "cell_type": "code",
   "execution_count": 3,
   "metadata": {},
   "outputs": [],
   "source": [
    "for film in fil_track.index:\n",
    "\n",
    "    abbr = fil_track.loc[film]['abbr'][0]\n",
    "    language = fil_track.loc[film]['language'][0]\n",
    "    tracks = fil_track.loc[film]['track']\n",
    "\n",
    "    sub_dir = tracks_dir + abbr\n",
    "    sub_path = sub_dir + '/' + abbr + '.srt'\n",
    "\n",
    "    subs = pysrt.open(sub_path, encoding='windows-1251')\n",
    "    starts_after={'minutes': 0, 'seconds': 0}\n",
    "    ends_before={'minutes': 10, 'seconds': 0}\n",
    "\n",
    "    for track in tracks:\n",
    "\n",
    "        part = subs.slice(\n",
    "                starts_after=starts_after,\n",
    "                ends_before=ends_before)\n",
    "        sub = part.text.replace('\\n',' ')\n",
    "\n",
    "        new_row = pd.DataFrame({'abbr':abbr,'track':track,'language':language, 'sub':sub}, index=[film])\n",
    "        fil_sub = pd.concat([fil_sub.loc[:,:],new_row],)\n",
    "\n",
    "        starts_after['minutes'] += 10\n",
    "        ends_before['minutes'] += 10"
   ]
  },
  {
   "cell_type": "code",
   "execution_count": 4,
   "metadata": {},
   "outputs": [
    {
     "data": {
      "text/plain": [
       "Кавказский пленник (1996)    ./track/KP/KP_01.mp3\n",
       "Кавказский пленник (1996)    ./track/KP/KP_02.mp3\n",
       "Кавказский пленник (1996)    ./track/KP/KP_03.mp3\n",
       "Кавказский пленник (1996)    ./track/KP/KP_04.mp3\n",
       "Кавказский пленник (1996)    ./track/KP/KP_05.mp3\n",
       "Кавказский пленник (1996)    ./track/KP/KP_06.mp3\n",
       "Кавказский пленник (1996)    ./track/KP/KP_07.mp3\n",
       "Кавказский пленник (1996)    ./track/KP/KP_08.mp3\n",
       "Кавказский пленник (1996)    ./track/KP/KP_09.mp3\n",
       "Кавказский пленник (1996)    ./track/KP/KP_10.mp3\n",
       "Name: track, dtype: object"
      ]
     },
     "execution_count": 4,
     "metadata": {},
     "output_type": "execute_result"
    }
   ],
   "source": [
    "track = fil_track.loc[film]['track']\n",
    "track"
   ]
  },
  {
   "cell_type": "code",
   "execution_count": 5,
   "metadata": {},
   "outputs": [
    {
     "data": {
      "text/html": [
       "<div>\n",
       "<style scoped>\n",
       "    .dataframe tbody tr th:only-of-type {\n",
       "        vertical-align: middle;\n",
       "    }\n",
       "\n",
       "    .dataframe tbody tr th {\n",
       "        vertical-align: top;\n",
       "    }\n",
       "\n",
       "    .dataframe thead th {\n",
       "        text-align: right;\n",
       "    }\n",
       "</style>\n",
       "<table border=\"1\" class=\"dataframe\">\n",
       "  <thead>\n",
       "    <tr style=\"text-align: right;\">\n",
       "      <th></th>\n",
       "      <th>abbr</th>\n",
       "      <th>language</th>\n",
       "      <th>track</th>\n",
       "    </tr>\n",
       "  </thead>\n",
       "  <tbody>\n",
       "    <tr>\n",
       "      <th>Кавказский пленник (1996)</th>\n",
       "      <td>KP</td>\n",
       "      <td>ru</td>\n",
       "      <td>./track/KP/KP_01.mp3</td>\n",
       "    </tr>\n",
       "    <tr>\n",
       "      <th>Кавказский пленник (1996)</th>\n",
       "      <td>KP</td>\n",
       "      <td>ru</td>\n",
       "      <td>./track/KP/KP_02.mp3</td>\n",
       "    </tr>\n",
       "    <tr>\n",
       "      <th>Кавказский пленник (1996)</th>\n",
       "      <td>KP</td>\n",
       "      <td>ru</td>\n",
       "      <td>./track/KP/KP_03.mp3</td>\n",
       "    </tr>\n",
       "    <tr>\n",
       "      <th>Кавказский пленник (1996)</th>\n",
       "      <td>KP</td>\n",
       "      <td>ru</td>\n",
       "      <td>./track/KP/KP_04.mp3</td>\n",
       "    </tr>\n",
       "    <tr>\n",
       "      <th>Кавказский пленник (1996)</th>\n",
       "      <td>KP</td>\n",
       "      <td>ru</td>\n",
       "      <td>./track/KP/KP_05.mp3</td>\n",
       "    </tr>\n",
       "    <tr>\n",
       "      <th>Кавказский пленник (1996)</th>\n",
       "      <td>KP</td>\n",
       "      <td>ru</td>\n",
       "      <td>./track/KP/KP_06.mp3</td>\n",
       "    </tr>\n",
       "    <tr>\n",
       "      <th>Кавказский пленник (1996)</th>\n",
       "      <td>KP</td>\n",
       "      <td>ru</td>\n",
       "      <td>./track/KP/KP_07.mp3</td>\n",
       "    </tr>\n",
       "    <tr>\n",
       "      <th>Кавказский пленник (1996)</th>\n",
       "      <td>KP</td>\n",
       "      <td>ru</td>\n",
       "      <td>./track/KP/KP_08.mp3</td>\n",
       "    </tr>\n",
       "    <tr>\n",
       "      <th>Кавказский пленник (1996)</th>\n",
       "      <td>KP</td>\n",
       "      <td>ru</td>\n",
       "      <td>./track/KP/KP_09.mp3</td>\n",
       "    </tr>\n",
       "    <tr>\n",
       "      <th>Кавказский пленник (1996)</th>\n",
       "      <td>KP</td>\n",
       "      <td>ru</td>\n",
       "      <td>./track/KP/KP_10.mp3</td>\n",
       "    </tr>\n",
       "  </tbody>\n",
       "</table>\n",
       "</div>"
      ],
      "text/plain": [
       "                          abbr language                 track\n",
       "Кавказский пленник (1996)   KP       ru  ./track/KP/KP_01.mp3\n",
       "Кавказский пленник (1996)   KP       ru  ./track/KP/KP_02.mp3\n",
       "Кавказский пленник (1996)   KP       ru  ./track/KP/KP_03.mp3\n",
       "Кавказский пленник (1996)   KP       ru  ./track/KP/KP_04.mp3\n",
       "Кавказский пленник (1996)   KP       ru  ./track/KP/KP_05.mp3\n",
       "Кавказский пленник (1996)   KP       ru  ./track/KP/KP_06.mp3\n",
       "Кавказский пленник (1996)   KP       ru  ./track/KP/KP_07.mp3\n",
       "Кавказский пленник (1996)   KP       ru  ./track/KP/KP_08.mp3\n",
       "Кавказский пленник (1996)   KP       ru  ./track/KP/KP_09.mp3\n",
       "Кавказский пленник (1996)   KP       ru  ./track/KP/KP_10.mp3"
      ]
     },
     "execution_count": 5,
     "metadata": {},
     "output_type": "execute_result"
    }
   ],
   "source": [
    "fil_track"
   ]
  },
  {
   "cell_type": "code",
   "execution_count": 12,
   "metadata": {},
   "outputs": [
    {
     "data": {
      "text/plain": [
       "'Мне нужно кое-что в городе, сосед! Лучше вам снова жениться. Вашей дочке нужны советы женщины. - Эти русские опасны. <i>Жена-покойница, Патима, была дурой, когда согласилась прийти в ваш дом.</i> - У тебя друг есть? - Вы поженитесь? Да или нет? Я выйду за него замуж. У тебя есть приданное? Серебряное ожерелье и два русских раба. А ещё пыль трёх дорог... и хвосты крысы! (прим. - обидная шутка, издёвка)'"
      ]
     },
     "execution_count": 12,
     "metadata": {},
     "output_type": "execute_result"
    }
   ],
   "source": [
    "fil_sub['sub'][3]"
   ]
  },
  {
   "cell_type": "code",
   "execution_count": null,
   "metadata": {},
   "outputs": [],
   "source": []
  }
 ],
 "metadata": {
  "kernelspec": {
   "display_name": "whisperenv",
   "language": "python",
   "name": "python3"
  },
  "language_info": {
   "codemirror_mode": {
    "name": "ipython",
    "version": 3
   },
   "file_extension": ".py",
   "mimetype": "text/x-python",
   "name": "python",
   "nbconvert_exporter": "python",
   "pygments_lexer": "ipython3",
   "version": "3.8.10"
  },
  "orig_nbformat": 4
 },
 "nbformat": 4,
 "nbformat_minor": 2
}
