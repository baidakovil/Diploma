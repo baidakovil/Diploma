{
 "cells": [
  {
   "cell_type": "code",
   "execution_count": 1,
   "metadata": {},
   "outputs": [],
   "source": [
    "import pandas as pd\n",
    "from pydub import AudioSegment\n",
    "import math\n",
    "from tqdm.notebook import tqdm"
   ]
  },
  {
   "cell_type": "code",
   "execution_count": 2,
   "metadata": {},
   "outputs": [],
   "source": [
    "fil_list = pd.read_csv('fil_list.csv',index_col=0)\n",
    "tracks_dir = './track/'\n",
    "ten_minutes = 10*60*1000\n"
   ]
  },
  {
   "cell_type": "code",
   "execution_count": 3,
   "metadata": {},
   "outputs": [
    {
     "data": {
      "text/html": [
       "<div>\n",
       "<style scoped>\n",
       "    .dataframe tbody tr th:only-of-type {\n",
       "        vertical-align: middle;\n",
       "    }\n",
       "\n",
       "    .dataframe tbody tr th {\n",
       "        vertical-align: top;\n",
       "    }\n",
       "\n",
       "    .dataframe thead th {\n",
       "        text-align: right;\n",
       "    }\n",
       "</style>\n",
       "<table border=\"1\" class=\"dataframe\">\n",
       "  <thead>\n",
       "    <tr style=\"text-align: right;\">\n",
       "      <th></th>\n",
       "      <th>abbr</th>\n",
       "      <th>track</th>\n",
       "      <th>language</th>\n",
       "    </tr>\n",
       "  </thead>\n",
       "  <tbody>\n",
       "    <tr>\n",
       "      <th>Кавказский пленник (1996)</th>\n",
       "      <td>KP</td>\n",
       "      <td></td>\n",
       "      <td>ru</td>\n",
       "    </tr>\n",
       "  </tbody>\n",
       "</table>\n",
       "</div>"
      ],
      "text/plain": [
       "                          abbr track language\n",
       "Кавказский пленник (1996)   KP             ru"
      ]
     },
     "execution_count": 3,
     "metadata": {},
     "output_type": "execute_result"
    }
   ],
   "source": [
    "fil_track = fil_list.copy()\n",
    "fil_track.insert(1,'track','')\n",
    "fil_track"
   ]
  },
  {
   "cell_type": "code",
   "execution_count": 4,
   "metadata": {},
   "outputs": [
    {
     "data": {
      "application/vnd.jupyter.widget-view+json": {
       "model_id": "ce6e4b6ea5ef4658b6c5d00682e919af",
       "version_major": 2,
       "version_minor": 0
      },
      "text/plain": [
       "  0%|          | 0/1 [00:00<?, ?it/s]"
      ]
     },
     "metadata": {},
     "output_type": "display_data"
    },
    {
     "name": "stdout",
     "output_type": "stream",
     "text": [
      "Track KP trimmed to 10 parts\n"
     ]
    }
   ],
   "source": [
    "for film in tqdm(fil_list.index):\n",
    "\n",
    "    abbr = fil_list.loc[film]['abbr']\n",
    "    language = fil_list.loc[film]['language']\n",
    "    track_dir = tracks_dir + abbr\n",
    "    track_full_path = track_dir + '/' + abbr + '.mp3'\n",
    "    track = AudioSegment.from_mp3(track_full_path)\n",
    "    beginning = 0\n",
    "    track_len = len(track)\n",
    "    counter = 1\n",
    "\n",
    "    while beginning < track_len:\n",
    "\n",
    "        next_end = beginning + ten_minutes\n",
    "        end = next_end if next_end < track_len else track_len\n",
    "        trim = track[beginning:end]\n",
    "        trim_full_path = f'{track_dir}/{abbr}_{str(counter)}.mp3'\n",
    "        file_handle = trim.export(trim_full_path,\n",
    "                            format='mp3',\n",
    "                            bitrate=\"256k\",\n",
    "                            tags={\"album\": abbr, \"artist\": f'No{counter}'})\n",
    "        new_row = pd.DataFrame({'abbr':abbr,'track_num':trim_full_path,'language':language}, index=[film])\n",
    "        abbr = fil_list.loc[film]['abbr']\n",
    "        fil_track = pd.concat([fil_track.loc[:,:],new_row],)\n",
    "        beginning += ten_minutes\n",
    "        counter += 1\n",
    "\n",
    "    print(f'Track {abbr} trimmed to {counter-1} parts')"
   ]
  },
  {
   "cell_type": "code",
   "execution_count": 5,
   "metadata": {},
   "outputs": [],
   "source": [
    "fil_track.to_csv('fil_track.csv')"
   ]
  }
 ],
 "metadata": {
  "kernelspec": {
   "display_name": "whisperenv",
   "language": "python",
   "name": "python3"
  },
  "language_info": {
   "codemirror_mode": {
    "name": "ipython",
    "version": 3
   },
   "file_extension": ".py",
   "mimetype": "text/x-python",
   "name": "python",
   "nbconvert_exporter": "python",
   "pygments_lexer": "ipython3",
   "version": "3.8.10"
  },
  "orig_nbformat": 4
 },
 "nbformat": 4,
 "nbformat_minor": 2
}
