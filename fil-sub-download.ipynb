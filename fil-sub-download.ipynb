{
 "cells": [
  {
   "cell_type": "code",
   "execution_count": null,
   "metadata": {},
   "outputs": [],
   "source": [
    "from pythonopensubtitles.opensubtitles import OpenSubtitles\n",
    "from pythonopensubtitles.utils import File\n",
    "import pandas as pd\n",
    "from tqdm.notebook import tqdm\n",
    "import time\n",
    "from datetime import date"
   ]
  },
  {
   "cell_type": "code",
   "execution_count": null,
   "metadata": {},
   "outputs": [],
   "source": [
    "def get_subtitles_by_id(imdbid):\n",
    "\n",
    "    data = ost.search_subtitles([{'sublanguageid': 'eng','imdbid': imdbid}])\n",
    "\n",
    "    try:\n",
    "        first_sub_data = data[0]\n",
    "        id_subtitle_file = first_sub_data.get('IDSubtitleFile')\n",
    "        moviename = first_sub_data.get('MovieName')\n",
    "        downloaded = ost.download_subtitles([id_subtitle_file], \n",
    "                                output_directory='/home/eva/Diploma/os/',\n",
    "                                override_filenames={id_subtitle_file:f'{imdbid}.srt'})\n",
    "\n",
    "        if downloaded is None:\n",
    "            print(f'Subs for {moviename}, imdb_id {imdbid} not dloaded')\n",
    "            moviename, first_sub_data, downloaded = 'NONNEE', 'NONNE', 'NONNE'\n",
    "\n",
    "    except:\n",
    "        print(f'While dloading subs for imdb_id {imdbid} I got error')\n",
    "        moviename, first_sub_data, downloaded = 'ERROR', 'ERROR', 'ERROR'\n",
    "    \n",
    "    return moviename, first_sub_data, downloaded"
   ]
  },
  {
   "cell_type": "code",
   "execution_count": null,
   "metadata": {},
   "outputs": [],
   "source": [
    "def get_subtitles_by_list(imdbidlist):\n",
    "\n",
    "    df = pd.DataFrame(columns=['moviename', 'data','file'])\n",
    "\n",
    "    current_date = str.replace(str(date.today()), '-', '_')\n",
    "    current_time = time.strftime('%H_%M_%S', time.localtime())\n",
    "    temporal_txt_path = 'fil_sub_download_temp_file_' + \\\n",
    "        current_date + '_' + current_time + '.csv'\n",
    "\n",
    "    for imdbid in tqdm(imdbidlist):\n",
    "\n",
    "        moviename, first_sub_data, downloaded = get_subtitles_by_id(imdbid)\n",
    "        new_row = pd.DataFrame({'moviename':moviename,'data':str(first_sub_data),'file':str(downloaded)}, index=[imdbid])\n",
    "        df = pd.concat([df.loc[:,:],new_row],)\n",
    "\n",
    "        with open(temporal_txt_path, 'a') as temp_file:\n",
    "            temp_file.write(\n",
    "            ';'.join([str(imdbid), str(moviename), str(first_sub_data), str(downloaded)])+'\\n')\n",
    "\n",
    "        time.sleep(2)\n",
    "\n",
    "    df.to_csv('fil_sub_download.csv', sep=';')\n",
    "\n",
    "    return True"
   ]
  },
  {
   "cell_type": "code",
   "execution_count": null,
   "metadata": {},
   "outputs": [],
   "source": [
    "ost = OpenSubtitles() \n",
    "cred = eval(open('/home/eva/Diploma/moviesdataset/passwords_1.txt').read())\n",
    "# cred = eval(open('/home/eva/Diploma/moviesdataset/passwords_2.txt').read())\n",
    "ost.login(cred['login'], cred['password'])\n",
    "\n",
    "df_sub_skip = pd.read_csv('fil_sub_download_temp_file.csv', sep=';', names=['imdb_id','moviename', 'data','file'])\n",
    "df_sub_skip = df_sub_skip.astype({'imdb_id': 'int32','moviename': 'string','data': 'object','file': 'object'})\n",
    "df_sub_skip = df_sub_skip.drop_duplicates(subset='imdb_id')\n",
    "df_sub_skip = df_sub_skip.reset_index(drop=True)\n",
    "\n",
    "df_to_sub = pd.read_csv('df_to_sub.csv', sep=';', index_col='id')\n",
    "df_to_sub['imdb_id'] = df_to_sub['imdb_id'].apply(lambda x: x.replace('tt',''))\n",
    "df_to_sub = df_to_sub.astype({'keywords': 'object','title': 'string','imdb_id': 'int32','keywords_len': 'int32'})\n",
    "df_to_sub = df_to_sub[~df_to_sub.imdb_id.isin(df_sub_skip.imdb_id)]\n",
    "df_to_sub = df_to_sub.sort_values(by='id')\n",
    "\n",
    "imdbidlist = df_to_sub.iloc[0:200,:].imdb_id\n",
    "# imdbidlist = ['80339']\n",
    "\n",
    "print(f'Subs to load: {len(imdbidlist)}')\n",
    "\n",
    "get_subtitles_by_list(imdbidlist)"
   ]
  },
  {
   "cell_type": "code",
   "execution_count": null,
   "metadata": {},
   "outputs": [],
   "source": []
  }
 ],
 "metadata": {
  "kernelspec": {
   "display_name": "whisperenv",
   "language": "python",
   "name": "python3"
  },
  "language_info": {
   "codemirror_mode": {
    "name": "ipython",
    "version": 3
   },
   "file_extension": ".py",
   "mimetype": "text/x-python",
   "name": "python",
   "nbconvert_exporter": "python",
   "pygments_lexer": "ipython3",
   "version": "3.8.10"
  },
  "orig_nbformat": 4
 },
 "nbformat": 4,
 "nbformat_minor": 2
}
